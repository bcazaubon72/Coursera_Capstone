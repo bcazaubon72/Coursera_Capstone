{
  "nbformat": 4,
  "nbformat_minor": 0,
  "metadata": {
    "colab": {
      "name": "List_of_postal_codes_of_Canada.ipynb",
      "provenance": [],
      "authorship_tag": "ABX9TyNMAzHrk/RJLkgcrAH8lbo+",
      "include_colab_link": true
    },
    "kernelspec": {
      "name": "python3",
      "display_name": "Python 3"
    }
  },
  "cells": [
    {
      "cell_type": "markdown",
      "metadata": {
        "id": "view-in-github",
        "colab_type": "text"
      },
      "source": [
        "<a href=\"https://colab.research.google.com/github/bcazaubon72/Coursera_Capstone/blob/master/List_of_postal_codes_of_Canada.ipynb\" target=\"_parent\"><img src=\"https://colab.research.google.com/assets/colab-badge.svg\" alt=\"Open In Colab\"/></a>"
      ]
    },
    {
      "cell_type": "markdown",
      "metadata": {
        "id": "R8GHN11W8Naj",
        "colab_type": "text"
      },
      "source": [
        "##Installing of requests "
      ]
    },
    {
      "cell_type": "code",
      "metadata": {
        "id": "hQxKBrtogZIn",
        "colab_type": "code",
        "colab": {
          "base_uri": "https://localhost:8080/",
          "height": 102
        },
        "outputId": "2f3170a1-d7d4-4b79-8acd-5fe561d98b83"
      },
      "source": [
        "\n",
        "pip install requests"
      ],
      "execution_count": 1,
      "outputs": [
        {
          "output_type": "stream",
          "text": [
            "Requirement already satisfied: requests in /usr/local/lib/python3.6/dist-packages (2.23.0)\n",
            "Requirement already satisfied: chardet<4,>=3.0.2 in /usr/local/lib/python3.6/dist-packages (from requests) (3.0.4)\n",
            "Requirement already satisfied: idna<3,>=2.5 in /usr/local/lib/python3.6/dist-packages (from requests) (2.9)\n",
            "Requirement already satisfied: certifi>=2017.4.17 in /usr/local/lib/python3.6/dist-packages (from requests) (2020.4.5.1)\n",
            "Requirement already satisfied: urllib3!=1.25.0,!=1.25.1,<1.26,>=1.21.1 in /usr/local/lib/python3.6/dist-packages (from requests) (1.24.3)\n"
          ],
          "name": "stdout"
        }
      ]
    },
    {
      "cell_type": "markdown",
      "metadata": {
        "id": "CtbH9PO5898X",
        "colab_type": "text"
      },
      "source": [
        " *Importing of Beautifulsoup,requests and pandas libraries*"
      ]
    },
    {
      "cell_type": "code",
      "metadata": {
        "id": "79LoYHYdg7kl",
        "colab_type": "code",
        "colab": {}
      },
      "source": [
        "from bs4 import BeautifulSoup\n",
        "import requests\n",
        "import pandas as pd\n"
      ],
      "execution_count": 0,
      "outputs": []
    },
    {
      "cell_type": "markdown",
      "metadata": {
        "id": "orfm_rH5_Wz-",
        "colab_type": "text"
      },
      "source": [
        "*Loading url into a beautifulsoup object.italicized text*"
      ]
    },
    {
      "cell_type": "code",
      "metadata": {
        "id": "yZ9Nj7Tyh1xr",
        "colab_type": "code",
        "colab": {}
      },
      "source": [
        "r = requests.get(\"https://en.wikipedia.org/wiki/List_of_postal_codes_of_Canada:_M\")\n",
        "soup = BeautifulSoup(r.content,'lxml')"
      ],
      "execution_count": 0,
      "outputs": []
    },
    {
      "cell_type": "markdown",
      "metadata": {
        "id": "r4P2Ut9P_32B",
        "colab_type": "text"
      },
      "source": [
        "Find table element in beautiful object  and reading in html object."
      ]
    },
    {
      "cell_type": "code",
      "metadata": {
        "id": "YBfKjrzwBz3K",
        "colab_type": "code",
        "colab": {}
      },
      "source": [
        "table = soup.find_all('table')\n",
        "df = pd.read_html(str(table))[0]"
      ],
      "execution_count": 0,
      "outputs": []
    },
    {
      "cell_type": "markdown",
      "metadata": {
        "id": "2bNZFJZ0BeUP",
        "colab_type": "text"
      },
      "source": [
        " *Removing all  rows marked 'Not assigned' in column 'Borough'*"
      ]
    },
    {
      "cell_type": "code",
      "metadata": {
        "id": "4MzfVzIVHSQm",
        "colab_type": "code",
        "colab": {}
      },
      "source": [
        "\n",
        "data =df[df['Borough']!= 'Not assigned']"
      ],
      "execution_count": 0,
      "outputs": []
    },
    {
      "cell_type": "markdown",
      "metadata": {
        "id": "mekYezW7Ds_M",
        "colab_type": "text"
      },
      "source": [
        "*Group dataframe by 'Postal Code' so 'Neighborhood' with similar postal code can be placed on one line*"
      ]
    },
    {
      "cell_type": "code",
      "metadata": {
        "id": "elYC5-t6QLY9",
        "colab_type": "code",
        "colab": {}
      },
      "source": [
        "data1 = data.groupby(df['Postal Code'],as_index=False)"
      ],
      "execution_count": 0,
      "outputs": []
    },
    {
      "cell_type": "markdown",
      "metadata": {
        "id": "ZTK_UNMPGbqE",
        "colab_type": "text"
      },
      "source": [
        "*Turn  dataframe groupby object into dateframe. Then reset index and drop the index column* "
      ]
    },
    {
      "cell_type": "code",
      "metadata": {
        "id": "49tyElL1tkJI",
        "colab_type": "code",
        "colab": {}
      },
      "source": [
        "data2=data1.head(179)\n",
        "data2=data2.reset_index().drop(columns='index')"
      ],
      "execution_count": 0,
      "outputs": []
    },
    {
      "cell_type": "code",
      "metadata": {
        "id": "Y-MfueJ5y5iS",
        "colab_type": "code",
        "colab": {
          "base_uri": "https://localhost:8080/",
          "height": 204
        },
        "outputId": "54667481-e9eb-4b4d-bbee-58b14b565292"
      },
      "source": [
        "data2.head()"
      ],
      "execution_count": 37,
      "outputs": [
        {
          "output_type": "execute_result",
          "data": {
            "text/html": [
              "<div>\n",
              "<style scoped>\n",
              "    .dataframe tbody tr th:only-of-type {\n",
              "        vertical-align: middle;\n",
              "    }\n",
              "\n",
              "    .dataframe tbody tr th {\n",
              "        vertical-align: top;\n",
              "    }\n",
              "\n",
              "    .dataframe thead th {\n",
              "        text-align: right;\n",
              "    }\n",
              "</style>\n",
              "<table border=\"1\" class=\"dataframe\">\n",
              "  <thead>\n",
              "    <tr style=\"text-align: right;\">\n",
              "      <th></th>\n",
              "      <th>Postal Code</th>\n",
              "      <th>Borough</th>\n",
              "      <th>Neighborhood</th>\n",
              "    </tr>\n",
              "  </thead>\n",
              "  <tbody>\n",
              "    <tr>\n",
              "      <th>0</th>\n",
              "      <td>M3A</td>\n",
              "      <td>North York</td>\n",
              "      <td>Parkwoods</td>\n",
              "    </tr>\n",
              "    <tr>\n",
              "      <th>1</th>\n",
              "      <td>M4A</td>\n",
              "      <td>North York</td>\n",
              "      <td>Victoria Village</td>\n",
              "    </tr>\n",
              "    <tr>\n",
              "      <th>2</th>\n",
              "      <td>M5A</td>\n",
              "      <td>Downtown Toronto</td>\n",
              "      <td>Regent Park, Harbourfront</td>\n",
              "    </tr>\n",
              "    <tr>\n",
              "      <th>3</th>\n",
              "      <td>M6A</td>\n",
              "      <td>North York</td>\n",
              "      <td>Lawrence Manor, Lawrence Heights</td>\n",
              "    </tr>\n",
              "    <tr>\n",
              "      <th>4</th>\n",
              "      <td>M7A</td>\n",
              "      <td>Downtown Toronto</td>\n",
              "      <td>Queen's Park, Ontario Provincial Government</td>\n",
              "    </tr>\n",
              "  </tbody>\n",
              "</table>\n",
              "</div>"
            ],
            "text/plain": [
              "  Postal Code           Borough                                 Neighborhood\n",
              "0         M3A        North York                                    Parkwoods\n",
              "1         M4A        North York                             Victoria Village\n",
              "2         M5A  Downtown Toronto                    Regent Park, Harbourfront\n",
              "3         M6A        North York             Lawrence Manor, Lawrence Heights\n",
              "4         M7A  Downtown Toronto  Queen's Park, Ontario Provincial Government"
            ]
          },
          "metadata": {
            "tags": []
          },
          "execution_count": 37
        }
      ]
    },
    {
      "cell_type": "code",
      "metadata": {
        "id": "48wFN6SmJ3bN",
        "colab_type": "code",
        "colab": {
          "base_uri": "https://localhost:8080/",
          "height": 34
        },
        "outputId": "c6026d4b-b301-47f8-ae43-82ae0b746208"
      },
      "source": [
        "data2.shape"
      ],
      "execution_count": 38,
      "outputs": [
        {
          "output_type": "execute_result",
          "data": {
            "text/plain": [
              "(103, 3)"
            ]
          },
          "metadata": {
            "tags": []
          },
          "execution_count": 38
        }
      ]
    }
  ]
}